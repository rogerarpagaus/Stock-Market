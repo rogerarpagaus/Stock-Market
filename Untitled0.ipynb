{
  "nbformat": 4,
  "nbformat_minor": 0,
  "metadata": {
    "colab": {
      "provenance": [],
      "authorship_tag": "ABX9TyMTpR6UrwgUcMG2bAuEKqpN",
      "include_colab_link": true
    },
    "kernelspec": {
      "name": "python3",
      "display_name": "Python 3"
    },
    "language_info": {
      "name": "python"
    }
  },
  "cells": [
    {
      "cell_type": "markdown",
      "metadata": {
        "id": "view-in-github",
        "colab_type": "text"
      },
      "source": [
        "<a href=\"https://colab.research.google.com/github/rogerarpagaus/Stock-Market/blob/main/Untitled0.ipynb\" target=\"_parent\"><img src=\"https://colab.research.google.com/assets/colab-badge.svg\" alt=\"Open In Colab\"/></a>"
      ]
    },
    {
      "cell_type": "markdown",
      "source": [
        "# Description: This is a code to predict stock prices of selected companies.\n",
        "#              We use a Long Short Term Memory model for the prediction."
      ],
      "metadata": {
        "id": "4PBhJ2VnQtuL"
      }
    },
    {
      "cell_type": "code",
      "source": [],
      "metadata": {
        "id": "HGebYZcSRhHg"
      },
      "execution_count": null,
      "outputs": []
    }
  ]
}